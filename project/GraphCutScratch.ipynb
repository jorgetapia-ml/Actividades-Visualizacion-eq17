{
  "cells": [
    {
      "cell_type": "code",
      "execution_count": 332,
      "metadata": {
        "id": "I5cxtk3AX24k"
      },
      "outputs": [],
      "source": [
        "from queue import Queue\n",
        "import numpy as np\n",
        "import sys\n",
        "from __future__ import division\n",
        "import cv2\n",
        "import os\n",
        "from math import exp, pow\n",
        "from PIL import Image, ImageOps\n",
        "import matplotlib.pyplot as plt"
      ]
    },
    {
      "cell_type": "code",
      "execution_count": 333,
      "metadata": {
        "id": "X6MBrhMGYIDp"
      },
      "outputs": [],
      "source": [
        "def bfs(rGraph, V, s, t, parent):\n",
        "    q = Queue()\n",
        "    visited = np.zeros(V, dtype=bool)\n",
        "    q.put(s)\n",
        "    visited[s] = True\n",
        "    parent[s]  = -1\n",
        "\n",
        "    while not q.empty():\n",
        "        u = q.get()\n",
        "        for v in range(V):\n",
        "            if (not visited[v]) and rGraph[u][v] > 0:\n",
        "                q.put(v)\n",
        "                parent[v] = u\n",
        "                visited[v] = True\n",
        "    return visited[v]\n",
        "\n",
        "def dfs(rGraph, V, s, visited):\n",
        "  stack = [s]\n",
        "  while stack:\n",
        "    v = stack.pop()\n",
        "    if not visited[v]:\n",
        "      visited[v] = True\n",
        "      stack.extend([u for u in range(V) if rGraph[v][u]])\n",
        "\n",
        "\n",
        "\n",
        "def augmentingPath(graph, s, t):\n",
        "    print(\"Running augmenting path algorithm\")\n",
        "    rGraph = graph.copy()\n",
        "    V = len(graph)\n",
        "    parent = np.zeros(V, dtype='int32')\n",
        "\n",
        "    while bfs(rGraph, V, s, t, parent):\n",
        "        pathFlow = float(\"inf\")\n",
        "        v = t\n",
        "        while v != s:\n",
        "            u = parent[v]\n",
        "            pathFlow = min(pathFlow, rGraph[u][v])\n",
        "            v = parent[v]\n",
        "\n",
        "        v = t\n",
        "        while v != s:\n",
        "            u = parent[v]\n",
        "            rGraph[u][v] -= pathFlow\n",
        "            rGraph[v][u] += pathFlow\n",
        "            v = parent[v]\n",
        "\n",
        "    visited = np.zeros(V, dtype=bool)\n",
        "    dfs(rGraph, V, s, visited)\n",
        "\n",
        "    cuts = []\n",
        "\n",
        "    for i in range(V):\n",
        "        for j in range(V):\n",
        "            if visited[i] and not visited[j] and graph[i][j]:\n",
        "                cuts.append((i, j))\n",
        "    return cuts"
      ]
    },
    {
      "cell_type": "code",
      "execution_count": 335,
      "metadata": {
        "id": "fQy5vrVsZm5h"
      },
      "outputs": [],
      "source": [
        "SIGMA = 30\n",
        "OBJCODE, BKGCODE = 1, 2\n",
        "CUTCOLOR = (0, 0, 255)\n",
        "\n",
        "# Large when ip - iq < sigma, and small otherwise\n",
        "def boundaryPenalty(ip, iq):\n",
        "    bp = 100 * exp(- pow(int(ip) - int(iq), 2) / (2 * pow(SIGMA, 2)))\n",
        "    return bp\n",
        "\n",
        "def buildGraph(image):\n",
        "    V = image.size + 2\n",
        "    graph = np.zeros((V, V), dtype='int32')\n",
        "    K = makeNLinks(graph, image)\n",
        "    seeds, seededImage = plantSeed(image)\n",
        "    makeTLinks(graph, seeds, K)\n",
        "    return graph, seededImage\n",
        "\n",
        "def makeNLinks(graph, image):\n",
        "    K = -float(\"inf\")\n",
        "    r, c = image.shape\n",
        "    for i in range(r):\n",
        "        for j in range(c):\n",
        "            x = i * c + j\n",
        "            if i + 1 < r: # pixel below\n",
        "                y = (i + 1) * c + j\n",
        "                bp = boundaryPenalty(image[i][j], image[i + 1][j])\n",
        "                graph[x][y] = graph[y][x] = bp\n",
        "                K = max(K, bp)\n",
        "            if j + 1 < c: # pixel to the right\n",
        "                y = i * c + j + 1\n",
        "                bp = boundaryPenalty(image[i][j], image[i][j + 1])\n",
        "                graph[x][y] = graph[y][x] = bp\n",
        "                K = max(K, bp)\n",
        "    return K\n",
        "\n",
        "\n",
        "\n",
        "def makeTLinks(graph, seeds, K):\n",
        "    r, c = seeds.shape\n",
        "\n",
        "    for i in range(r):\n",
        "        for j in range(c):\n",
        "            x = i * c + j\n",
        "            if seeds[i][j] == OBJCODE:\n",
        "                graph[SOURCE][x] = K\n",
        "            elif seeds[i][j] == BKGCODE:\n",
        "                graph[x][SINK] = K\n",
        "                \n",
        "def displayCut(image, cuts):\n",
        "    def colorPixel(i, j):\n",
        "        image[i][j] = CUTCOLOR\n",
        "\n",
        "    r, c = image.shape\n",
        "    image = cv2.cvtColor(image, cv2.COLOR_GRAY2RGB)\n",
        "    for c in cuts:\n",
        "        if c[0] != SOURCE and c[0] != SINK and c[1] != SOURCE and c[1] != SINK:\n",
        "            colorPixel(c[0] // r, c[0] % r)\n",
        "            colorPixel(c[1] // r, c[1] % r)\n",
        "    return image"
      ]
    },
    {
      "cell_type": "code",
      "execution_count": 473,
      "metadata": {
        "id": "WOalQsHK5hyM"
      },
      "outputs": [],
      "source": [
        "SOURCE, SINK = -2, -1\n",
        "SIZE = 45\n",
        "#pathname = os.path.splitext(imagefile)[0]\n",
        "image = cv2.imread('./sample_data/original.png', cv2.IMREAD_GRAYSCALE)\n",
        "image = cv2.resize(image, (SIZE, SIZE))"
      ]
    },
    {
      "cell_type": "code",
      "execution_count": 474,
      "metadata": {
        "colab": {
          "base_uri": "https://localhost:8080/"
        },
        "id": "m59EQo-zQlbC",
        "outputId": "b6534ee1-24bb-46ff-da2f-2083c4d51739"
      },
      "outputs": [
        {
          "data": {
            "text/plain": [
              "(45, 45)"
            ]
          },
          "execution_count": 474,
          "metadata": {},
          "output_type": "execute_result"
        }
      ],
      "source": [
        "image.shape"
      ]
    },
    {
      "cell_type": "code",
      "execution_count": 475,
      "metadata": {
        "colab": {
          "base_uri": "https://localhost:8080/",
          "height": 284
        },
        "id": "cLHAR1VBQEiu",
        "outputId": "6ec7f680-2e15-40ac-fd03-c2011fefff47"
      },
      "outputs": [
        {
          "data": {
            "text/plain": [
              "<matplotlib.image.AxesImage at 0x7f09f778a970>"
            ]
          },
          "execution_count": 475,
          "metadata": {},
          "output_type": "execute_result"
        },
        {
          "data": {
            "image/png": "[encoded data removed]",
            "text/plain": [
              "<Figure size 432x288 with 1 Axes>"
            ]
          },
          "metadata": {
            "needs_background": "light"
          },
          "output_type": "display_data"
        }
      ],
      "source": [
        "plt.imshow(image)"
      ]
    },
    {
      "cell_type": "code",
      "execution_count": 476,
      "metadata": {
        "id": "oX-EM2TnCwuR"
      },
      "outputs": [],
      "source": [
        "seededImage = cv2.imread('./sample_data/onlySeeds3.png')\n",
        "seededImage = cv2.resize(seededImage, (SIZE, SIZE))"
      ]
    },
    {
      "cell_type": "code",
      "execution_count": 478,
      "metadata": {
        "colab": {
          "base_uri": "https://localhost:8080/",
          "height": 284
        },
        "id": "m2WGFFVCItdA",
        "outputId": "9d6dd5ef-4745-4a30-a619-7c73a2bc26a1"
      },
      "outputs": [
        {
          "data": {
            "text/plain": [
              "<matplotlib.image.AxesImage at 0x7f09f76e2220>"
            ]
          },
          "execution_count": 478,
          "metadata": {},
          "output_type": "execute_result"
        },
        {
          "data": {
            "image/png": "[encoded data removed]",
            "text/plain": [
              "<Figure size 432x288 with 1 Axes>"
            ]
          },
          "metadata": {
            "needs_background": "light"
          },
          "output_type": "display_data"
        }
      ],
      "source": [
        "plt.imshow(seededImage)"
      ]
    },
    {
      "cell_type": "code",
      "execution_count": 479,
      "metadata": {
        "id": "lDCYfhiwHiJc"
      },
      "outputs": [],
      "source": [
        "seeds = np.zeros(image.shape, dtype=\"uint8\")"
      ]
    },
    {
      "cell_type": "code",
      "execution_count": 480,
      "metadata": {
        "id": "Wgc62dgEHMmK"
      },
      "outputs": [],
      "source": [
        "for x in range(seededImage.shape[0]):\n",
        "  for y in range(seededImage.shape[1]):\n",
        "    pixel = np.array2string(seededImage[x, y])\n",
        "    \n",
        "    if (pixel == '[  0   0 255]'):      # FOREGROUND\n",
        "      seeds[x, y] = 1\n",
        "    elif (pixel == '[  0 255   0]'):    # BACKGROUND\n",
        "      seeds[x, y] = 2"
      ]
    },
    {
      "cell_type": "code",
      "execution_count": 481,
      "metadata": {
        "colab": {
          "base_uri": "https://localhost:8080/"
        },
        "id": "1iOvqqFJ48rh",
        "outputId": "c66ec33d-f5ac-4aa2-b990-c5f8c2475fa9"
      },
      "outputs": [
        {
          "data": {
            "text/plain": [
              "(45, 45)"
            ]
          },
          "execution_count": 481,
          "metadata": {},
          "output_type": "execute_result"
        }
      ],
      "source": [
        "seeds.shape"
      ]
    },
    {
      "cell_type": "markdown",
      "metadata": {
        "id": "TQOaL4NnRZ2m"
      },
      "source": [
        "# interactive colab\n",
        "https://colab.research.google.com/notebooks/snippets/advanced_outputs.ipynb#scrollTo=iU_0F2SVW4Yb"
      ]
    },
    {
      "cell_type": "code",
      "execution_count": 482,
      "metadata": {
        "colab": {
          "base_uri": "https://localhost:8080/"
        },
        "id": "yMJel3Gv59O2",
        "outputId": "154035bb-f9f5-43f5-e39d-7caf335d0a8f"
      },
      "outputs": [
        {
          "name": "stdout",
          "output_type": "stream",
          "text": [
            "Running augmenting path algorithm\n"
          ]
        }
      ],
      "source": [
        "V = image.size + 2\n",
        "graph = np.zeros((V, V), dtype='int32')\n",
        "K = makeNLinks(graph, image)\n",
        "makeTLinks(graph, seeds, K)\n",
        "\n",
        "SOURCE += len(graph) \n",
        "SINK   += len(graph)\n",
        "\n",
        "cuts = augmentingPath(graph, SOURCE, SINK)\n",
        "#cuts = pushRelabel(graph, SOURCE, SINK)\n",
        "cuttedImaged = displayCut(image, cuts)"
      ]
    },
    {
      "cell_type": "code",
      "execution_count": 483,
      "metadata": {
        "colab": {
          "base_uri": "https://localhost:8080/"
        },
        "id": "KKIoiOepo4x8",
        "outputId": "84beb0ea-158f-43ff-c07f-061436ab123c"
      },
      "outputs": [
        {
          "data": {
            "text/plain": [
              "[(116, 71),\n",
              " (117, 72),\n",
              " (118, 73),\n",
              " (158, 157),\n",
              " (202, 157),\n",
              " (202, 201),\n",
              " (246, 201),\n",
              " (246, 245),\n",
              " (289, 244),\n",
              " (289, 288),\n",
              " (375, 330),\n",
              " (375, 374),\n",
              " (377, 332),\n",
              " (529, 530),\n",
              " (553, 552),\n",
              " (575, 530),\n",
              " (597, 552),\n",
              " (687, 686),\n",
              " (711, 666),\n",
              " (711, 712),\n",
              " (731, 686),\n",
              " (821, 820),\n",
              " (865, 820),\n",
              " (1000, 999),\n",
              " (1044, 999),\n",
              " (1071, 1116),\n",
              " (1205, 1250),\n",
              " (1269, 1268),\n",
              " (1313, 1268),\n",
              " (1313, 1312),\n",
              " (1339, 1384),\n",
              " (1562, 1607),\n",
              " (1651, 1696),\n",
              " (1717, 1672),\n",
              " (1717, 1716),\n",
              " (1740, 1785),\n",
              " (1762, 1761),\n",
              " (1807, 1806),\n",
              " (1851, 1806),\n",
              " (1851, 1850),\n",
              " (1873, 1874),\n",
              " (1890, 1845),\n",
              " (1891, 1846),\n",
              " (1919, 1874),\n",
              " (1922, 1877),\n",
              " (1922, 1923),\n",
              " (2012, 2013)]"
            ]
          },
          "execution_count": 483,
          "metadata": {},
          "output_type": "execute_result"
        }
      ],
      "source": [
        "cuts"
      ]
    },
    {
      "cell_type": "code",
      "execution_count": 484,
      "metadata": {
        "colab": {
          "base_uri": "https://localhost:8080/"
        },
        "id": "3tvKIn_eoaCk",
        "outputId": "811a3f32-739e-4f04-fe1b-60750af0263d"
      },
      "outputs": [
        {
          "data": {
            "text/plain": [
              "(45, 45, 3)"
            ]
          },
          "execution_count": 484,
          "metadata": {},
          "output_type": "execute_result"
        }
      ],
      "source": [
        "cuttedImaged.shape"
      ]
    },
    {
      "cell_type": "code",
      "execution_count": 485,
      "metadata": {
        "colab": {
          "base_uri": "https://localhost:8080/",
          "height": 284
        },
        "id": "ajeWxWoAos5r",
        "outputId": "8d51b605-4412-47b7-86af-2c0048700643"
      },
      "outputs": [
        {
          "data": {
            "text/plain": [
              "<matplotlib.image.AxesImage at 0x7f09f765c2e0>"
            ]
          },
          "execution_count": 485,
          "metadata": {},
          "output_type": "execute_result"
        },
        {
          "data": {
            "image/png": "[encoded data removed]",
            "text/plain": [
              "<Figure size 432x288 with 1 Axes>"
            ]
          },
          "metadata": {
            "needs_background": "light"
          },
          "output_type": "display_data"
        }
      ],
      "source": [
        "plt.imshow(cuttedImaged)"
      ]
    },
    {
      "attachments": {},
      "cell_type": "markdown",
      "metadata": {},
      "source": [
        "TODO\n",
        "* improve performance 45x45 image takes 5 minutes to process\n",
        "* add frontend\n",
        "* review https://github.com/mjirik/imcut (reshape 2d image into 3d) (if possible, then discard scratch implementation)"
      ]
    }
  ],
  "metadata": {
    "colab": {
      "provenance": []
    },
    "kernelspec": {
      "display_name": "Python 3",
      "name": "python3"
    },
    "language_info": {
      "name": "python"
    }
  },
  "nbformat": 4,
  "nbformat_minor": 0
}
